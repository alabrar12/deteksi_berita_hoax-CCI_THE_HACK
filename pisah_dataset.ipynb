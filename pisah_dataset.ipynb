{
  "nbformat": 4,
  "nbformat_minor": 0,
  "metadata": {
    "colab": {
      "provenance": []
    },
    "kernelspec": {
      "name": "python3",
      "display_name": "Python 3"
    },
    "language_info": {
      "name": "python"
    }
  },
  "cells": [
    {
      "cell_type": "code",
      "execution_count": null,
      "metadata": {
        "colab": {
          "base_uri": "https://localhost:8080/"
        },
        "id": "Bb6ME0eU2WrC",
        "outputId": "e9ac681a-f99c-4c53-f2b7-d99d46400cc2"
      },
      "outputs": [
        {
          "output_type": "execute_result",
          "data": {
            "text/plain": [
              "Index(['0', '1', '2', '3', '4', '5', '6', '7', '8', '9',\n",
              "       ...\n",
              "       '759', '760', '761', '762', '763', '764', '765', '766', '767', 'label'],\n",
              "      dtype='object', length=769)"
            ]
          },
          "metadata": {},
          "execution_count": 5
        }
      ],
      "source": [
        "import pandas as pd\n",
        "\n",
        "df = pd.read_csv(\"/content/Data_berita_fakta_dan_hoax.csv\")\n",
        "\n",
        "df.columns"
      ]
    },
    {
      "cell_type": "code",
      "source": [
        "df_hoax_only = df[df[\"label\"] == 1]\n",
        "df_fakta_only = df[df[\"label\"] == 0]\n",
        "\n",
        "print(\"Jumlah data hoax :\", len(df_hoax_only))\n",
        "print(\"Jumlah data fakta:\", len(df_fakta_only))\n",
        "\n",
        "df_hoax_only.to_csv(\"Data_Hoax.csv\", index=False)\n",
        "df_fakta_only.to_csv(\"Data_Fakta.csv\", index=False)\n",
        "\n",
        "print(\"Dataset hasil embedding berhasil dipisahkan dan disimpan!\")"
      ],
      "metadata": {
        "colab": {
          "base_uri": "https://localhost:8080/"
        },
        "id": "i9s58sx7_vvr",
        "outputId": "f5265ccb-0761-415f-afe0-8c74cf3af58b"
      },
      "execution_count": null,
      "outputs": [
        {
          "output_type": "stream",
          "name": "stdout",
          "text": [
            "Jumlah data hoax : 10381\n",
            "Jumlah data fakta: 20972\n",
            "Dataset hasil embedding berhasil dipisahkan dan disimpan!\n"
          ]
        }
      ]
    }
  ]
}