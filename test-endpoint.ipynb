{
 "cells": [
  {
   "cell_type": "code",
   "execution_count": 1,
   "id": "e71e741f",
   "metadata": {},
   "outputs": [],
   "source": [
    "import requests"
   ]
  },
  {
   "cell_type": "code",
   "execution_count": 4,
   "id": "7e0bfd96",
   "metadata": {},
   "outputs": [
    {
     "name": "stdout",
     "output_type": "stream",
     "text": [
      "Status Code: 200\n",
      "Response JSON: {'prediction': 'HOAX', 'confidence': '66.46%', 'probabilities': {'Non-Hoax': '0.335', 'Hoax': '0.665'}}\n"
     ]
    }
   ],
   "source": [
    "# URL endpoint lokal\n",
    "url = \"http://127.0.0.1:8000/predict\" #disesuaikan dengan endpoint masing-masing local\n",
    "\n",
    "# Data berita yang mau diuji\n",
    "payload = {\n",
    "    \"judul\": \"Kemenkes Wajibkan Penumpang Pesawat Tervaksinasi TBC\",\n",
    "    \"isi_berita\": \"\"\"Kemenkes: Semua penumpang yang akan naik pesawat agar sudah divaksin TBC dan menunjukan surat vaksin. tujuannya untuk mencegah penyebaran lewat udara. Budi Gunadi Sadikin, Menkes\"\"\"\n",
    "}\n",
    "# Kirim POST request\n",
    "response = requests.post(url, json=payload)\n",
    "\n",
    "# Lihat hasil prediksi\n",
    "print(\"Status Code:\", response.status_code)\n",
    "print(\"Response JSON:\", response.json())\n"
   ]
  }
 ],
 "metadata": {
  "kernelspec": {
   "display_name": "Python 3",
   "language": "python",
   "name": "python3"
  },
  "language_info": {
   "codemirror_mode": {
    "name": "ipython",
    "version": 3
   },
   "file_extension": ".py",
   "mimetype": "text/x-python",
   "name": "python",
   "nbconvert_exporter": "python",
   "pygments_lexer": "ipython3",
   "version": "3.11.0"
  }
 },
 "nbformat": 4,
 "nbformat_minor": 5
}
